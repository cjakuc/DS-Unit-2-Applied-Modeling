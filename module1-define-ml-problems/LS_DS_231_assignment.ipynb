{
  "nbformat": 4,
  "nbformat_minor": 0,
  "metadata": {
    "kernelspec": {
      "display_name": "Python 3",
      "language": "python",
      "name": "python3"
    },
    "language_info": {
      "codemirror_mode": {
        "name": "ipython",
        "version": 3
      },
      "file_extension": ".py",
      "mimetype": "text/x-python",
      "name": "python",
      "nbconvert_exporter": "python",
      "pygments_lexer": "ipython3",
      "version": "3.7.6"
    },
    "colab": {
      "name": "LS_DS_231_assignment.ipynb",
      "provenance": [],
      "include_colab_link": true
    }
  },
  "cells": [
    {
      "cell_type": "markdown",
      "metadata": {
        "id": "view-in-github",
        "colab_type": "text"
      },
      "source": [
        "<a href=\"https://colab.research.google.com/github/cjakuc/DS-Unit-2-Applied-Modeling/blob/master/module1-define-ml-problems/LS_DS_231_assignment.ipynb\" target=\"_parent\"><img src=\"https://colab.research.google.com/assets/colab-badge.svg\" alt=\"Open In Colab\"/></a>"
      ]
    },
    {
      "cell_type": "markdown",
      "metadata": {
        "colab_type": "text",
        "id": "nCc3XZEyG3XV"
      },
      "source": [
        "Lambda School Data Science\n",
        "\n",
        "*Unit 2, Sprint 3, Module 1*\n",
        "\n",
        "---\n",
        "\n",
        "\n",
        "# Define ML problems\n",
        "\n",
        "You will use your portfolio project dataset for all assignments this sprint.\n",
        "\n",
        "## Assignment\n",
        "\n",
        "Complete these tasks for your project, and document your decisions.\n",
        "\n",
        "- [x] Choose your target. Which column in your tabular dataset will you predict?\n",
        "- [x] Is your problem regression or classification?\n",
        "- [x] How is your target distributed?\n",
        "    - Classification: How many classes? Are the classes imbalanced?\n",
        "    - Regression: Is the target right-skewed? If so, you may want to log transform the target.\n",
        "- [X] Choose your evaluation metric(s).\n",
        "    - Classification: Is your majority class frequency >= 50% and < 70% ? If so, you can just use accuracy if you want. Outside that range, accuracy could be misleading. What evaluation metric will you choose, in addition to or instead of accuracy?\n",
        "    - Regression: Will you use mean absolute error, root mean squared error, R^2, or other regression metrics?\n",
        "- [x] Choose which observations you will use to train, validate, and test your model.\n",
        "    - Are some observations outliers? Will you exclude them?\n",
        "    - Will you do a random split or a time-based split?\n",
        "- [x] Begin to clean and explore your data.\n",
        "- [x] Begin to choose which features, if any, to exclude. Would some features \"leak\" future information?\n",
        "\n",
        "If you haven't found a dataset yet, do that today. [Review requirements for your portfolio project](https://lambdaschool.github.io/ds/unit2) and choose your dataset.\n",
        "\n",
        "Some students worry, ***what if my model isn't “good”?*** Then, [produce a detailed tribute to your wrongness. That is science!](https://twitter.com/nathanwpyle/status/1176860147223867393)"
      ]
    },
    {
      "cell_type": "markdown",
      "metadata": {
        "id": "sLSL_aUST08H",
        "colab_type": "text"
      },
      "source": [
        "# Weather Data"
      ]
    },
    {
      "cell_type": "markdown",
      "metadata": {
        "id": "DLoaL44oESyw",
        "colab_type": "text"
      },
      "source": [
        "## Load in weather data"
      ]
    },
    {
      "cell_type": "code",
      "metadata": {
        "id": "1ebcilH6ERoo",
        "colab_type": "code",
        "colab": {}
      },
      "source": [
        "import pandas as pd\n",
        "import numpy as np\n",
        "import matplotlib.pyplot as pyplot\n",
        "import seaborn as sns"
      ],
      "execution_count": 0,
      "outputs": []
    },
    {
      "cell_type": "code",
      "metadata": {
        "id": "xwnp8hphEWze",
        "colab_type": "code",
        "colab": {
          "base_uri": "https://localhost:8080/",
          "height": 411
        },
        "outputId": "66c6a553-eb76-4cad-be38-bf44dab2e8b9"
      },
      "source": [
        "# Read in weather CSV files for 2005-2015\n",
        "csv2005 = pd.read_csv('https://github.com/cjakuc/DS-Unit1-Build-Week/blob/master/Weather%20Data/jmc2005.csv?raw=true',\n",
        "                      parse_dates=True,index_col=1)\n",
        "csv2006 = pd.read_csv('https://github.com/cjakuc/DS-Unit1-Build-Week/blob/master/Weather%20Data/jmc2006.csv?raw=true',\n",
        "                      parse_dates=True,index_col=1)\n",
        "csv2007 = pd.read_csv('https://github.com/cjakuc/DS-Unit1-Build-Week/blob/master/Weather%20Data/jmc2007.csv?raw=true',\n",
        "                      parse_dates=True,index_col=1)\n",
        "csv2008 = pd.read_csv('https://github.com/cjakuc/DS-Unit1-Build-Week/blob/master/Weather%20Data/jmc2008.csv?raw=true',\n",
        "                      parse_dates=True,index_col=1)\n",
        "csv2009 = pd.read_csv('https://github.com/cjakuc/DS-Unit1-Build-Week/blob/master/Weather%20Data/jmc2009.csv?raw=true',\n",
        "                      parse_dates=True,index_col=1)\n",
        "csv2010 = pd.read_csv('https://github.com/cjakuc/DS-Unit1-Build-Week/blob/master/Weather%20Data/jmc2010.csv?raw=true',\n",
        "                      parse_dates=True,index_col=1)\n",
        "csv2011 = pd.read_csv('https://github.com/cjakuc/DS-Unit1-Build-Week/blob/master/Weather%20Data/jmc2011.csv?raw=true',\n",
        "                      parse_dates=True,index_col=1)\n",
        "csv2012 = pd.read_csv('https://github.com/cjakuc/DS-Unit1-Build-Week/blob/master/Weather%20Data/jmc2012.csv?raw=true',\n",
        "                      parse_dates=True,index_col=1)\n",
        "csv2013 = pd.read_csv('https://github.com/cjakuc/DS-Unit1-Build-Week/blob/master/Weather%20Data/jmc2013.csv?raw=true',\n",
        "                      parse_dates=True,index_col=1)\n",
        "csv2014 = pd.read_csv('https://github.com/cjakuc/DS-Unit1-Build-Week/blob/master/Weather%20Data/jmc2014.csv?raw=true',\n",
        "                      parse_dates=True,index_col=1)\n",
        "csv2015 = pd.read_csv('https://github.com/cjakuc/DS-Unit1-Build-Week/blob/master/Weather%20Data/jmc2015.csv?raw=true',\n",
        "                      parse_dates=True,index_col=1)"
      ],
      "execution_count": 2,
      "outputs": [
        {
          "output_type": "stream",
          "text": [
            "/usr/local/lib/python3.6/dist-packages/IPython/core/interactiveshell.py:2718: DtypeWarning: Columns (8,15,17,20,23,36,37,41,42,48,49,51,111) have mixed types. Specify dtype option on import or set low_memory=False.\n",
            "  interactivity=interactivity, compiler=compiler, result=result)\n",
            "/usr/local/lib/python3.6/dist-packages/IPython/core/interactiveshell.py:2718: DtypeWarning: Columns (8,17,18) have mixed types. Specify dtype option on import or set low_memory=False.\n",
            "  interactivity=interactivity, compiler=compiler, result=result)\n",
            "/usr/local/lib/python3.6/dist-packages/IPython/core/interactiveshell.py:2718: DtypeWarning: Columns (10,62,64,78) have mixed types. Specify dtype option on import or set low_memory=False.\n",
            "  interactivity=interactivity, compiler=compiler, result=result)\n",
            "/usr/local/lib/python3.6/dist-packages/IPython/core/interactiveshell.py:2718: DtypeWarning: Columns (10,13,62) have mixed types. Specify dtype option on import or set low_memory=False.\n",
            "  interactivity=interactivity, compiler=compiler, result=result)\n",
            "/usr/local/lib/python3.6/dist-packages/IPython/core/interactiveshell.py:2718: DtypeWarning: Columns (8,13,17,18,64,78) have mixed types. Specify dtype option on import or set low_memory=False.\n",
            "  interactivity=interactivity, compiler=compiler, result=result)\n",
            "/usr/local/lib/python3.6/dist-packages/IPython/core/interactiveshell.py:2718: DtypeWarning: Columns (78) have mixed types. Specify dtype option on import or set low_memory=False.\n",
            "  interactivity=interactivity, compiler=compiler, result=result)\n",
            "/usr/local/lib/python3.6/dist-packages/IPython/core/interactiveshell.py:2718: DtypeWarning: Columns (8,10,17,18,62) have mixed types. Specify dtype option on import or set low_memory=False.\n",
            "  interactivity=interactivity, compiler=compiler, result=result)\n",
            "/usr/local/lib/python3.6/dist-packages/IPython/core/interactiveshell.py:2718: DtypeWarning: Columns (8,9,13,17,18,60) have mixed types. Specify dtype option on import or set low_memory=False.\n",
            "  interactivity=interactivity, compiler=compiler, result=result)\n",
            "/usr/local/lib/python3.6/dist-packages/IPython/core/interactiveshell.py:2718: DtypeWarning: Columns (10,23) have mixed types. Specify dtype option on import or set low_memory=False.\n",
            "  interactivity=interactivity, compiler=compiler, result=result)\n",
            "/usr/local/lib/python3.6/dist-packages/IPython/core/interactiveshell.py:2718: DtypeWarning: Columns (8,9,10,17,18,41,64,78) have mixed types. Specify dtype option on import or set low_memory=False.\n",
            "  interactivity=interactivity, compiler=compiler, result=result)\n",
            "/usr/local/lib/python3.6/dist-packages/IPython/core/interactiveshell.py:2718: DtypeWarning: Columns (17,41,76) have mixed types. Specify dtype option on import or set low_memory=False.\n",
            "  interactivity=interactivity, compiler=compiler, result=result)\n"
          ],
          "name": "stderr"
        }
      ]
    },
    {
      "cell_type": "code",
      "metadata": {
        "id": "l7l27CZnEa4W",
        "colab_type": "code",
        "colab": {
          "base_uri": "https://localhost:8080/",
          "height": 170
        },
        "outputId": "ef5bbd7a-80a1-45a2-be05-b89e880f078e"
      },
      "source": [
        "# Put all weather CSVs into one df\n",
        "df = pd.concat([csv2005,\n",
        "                csv2006,\n",
        "                csv2007,\n",
        "                csv2008,\n",
        "                csv2009,\n",
        "                csv2010,\n",
        "                csv2011,\n",
        "                csv2012,\n",
        "                csv2013,\n",
        "                csv2014,\n",
        "                csv2015])\n",
        "print(df.shape)"
      ],
      "execution_count": 3,
      "outputs": [
        {
          "output_type": "stream",
          "text": [
            "/usr/local/lib/python3.6/dist-packages/ipykernel_launcher.py:11: FutureWarning: Sorting because non-concatenation axis is not aligned. A future version\n",
            "of pandas will change to not sort by default.\n",
            "\n",
            "To accept the future behavior, pass 'sort=False'.\n",
            "\n",
            "To retain the current behavior and silence the warning, pass 'sort=True'.\n",
            "\n",
            "  # This is added back by InteractiveShellApp.init_path()\n"
          ],
          "name": "stderr"
        },
        {
          "output_type": "stream",
          "text": [
            "(153663, 122)\n"
          ],
          "name": "stdout"
        }
      ]
    },
    {
      "cell_type": "code",
      "metadata": {
        "id": "83WCxPSwY0-l",
        "colab_type": "code",
        "colab": {}
      },
      "source": [
        "df_weather = df.copy()"
      ],
      "execution_count": 0,
      "outputs": []
    },
    {
      "cell_type": "markdown",
      "metadata": {
        "id": "NHhSTYd_UC8p",
        "colab_type": "text"
      },
      "source": [
        "## Remove extraneous columns and columns with too many null values"
      ]
    },
    {
      "cell_type": "code",
      "metadata": {
        "id": "neH7EN91HSnF",
        "colab_type": "code",
        "colab": {}
      },
      "source": [
        "# Find the columns w/ hourly metrics\n",
        "hourly = df_weather.columns.str.startswith('Hourly')\n",
        "columns = df_weather.columns.to_list()\n",
        "columns_hourly = []\n",
        "for index, item in enumerate(hourly):\n",
        "  if item==True:\n",
        "    columns_hourly.append(columns[index])"
      ],
      "execution_count": 0,
      "outputs": []
    },
    {
      "cell_type": "code",
      "metadata": {
        "id": "kGE1q1I2H-JL",
        "colab_type": "code",
        "colab": {
          "base_uri": "https://localhost:8080/",
          "height": 34
        },
        "outputId": "eb90fbd9-4913-4852-8dfa-56c49da512ef"
      },
      "source": [
        "df_weather.shape"
      ],
      "execution_count": 6,
      "outputs": [
        {
          "output_type": "execute_result",
          "data": {
            "text/plain": [
              "(153663, 122)"
            ]
          },
          "metadata": {
            "tags": []
          },
          "execution_count": 6
        }
      ]
    },
    {
      "cell_type": "code",
      "metadata": {
        "id": "YjMgIJvTKVhC",
        "colab_type": "code",
        "colab": {
          "base_uri": "https://localhost:8080/",
          "height": 539
        },
        "outputId": "a8f0dd54-e111-4af3-c106-620fed91d93a"
      },
      "source": [
        "df_weather.head()"
      ],
      "execution_count": 7,
      "outputs": [
        {
          "output_type": "execute_result",
          "data": {
            "text/html": [
              "<div>\n",
              "<style scoped>\n",
              "    .dataframe tbody tr th:only-of-type {\n",
              "        vertical-align: middle;\n",
              "    }\n",
              "\n",
              "    .dataframe tbody tr th {\n",
              "        vertical-align: top;\n",
              "    }\n",
              "\n",
              "    .dataframe thead th {\n",
              "        text-align: right;\n",
              "    }\n",
              "</style>\n",
              "<table border=\"1\" class=\"dataframe\">\n",
              "  <thead>\n",
              "    <tr style=\"text-align: right;\">\n",
              "      <th></th>\n",
              "      <th>AWND</th>\n",
              "      <th>BackupDirection</th>\n",
              "      <th>BackupDistance</th>\n",
              "      <th>BackupDistanceUnit</th>\n",
              "      <th>BackupElements</th>\n",
              "      <th>BackupElevation</th>\n",
              "      <th>BackupEquipment</th>\n",
              "      <th>BackupLatitude</th>\n",
              "      <th>BackupLongitude</th>\n",
              "      <th>BackupName</th>\n",
              "      <th>CDSD</th>\n",
              "      <th>CLDD</th>\n",
              "      <th>DSNW</th>\n",
              "      <th>DailyAverageDewPointTemperature</th>\n",
              "      <th>DailyAverageDryBulbTemperature</th>\n",
              "      <th>DailyAverageRelativeHumidity</th>\n",
              "      <th>DailyAverageSeaLevelPressure</th>\n",
              "      <th>DailyAverageStationPressure</th>\n",
              "      <th>DailyAverageWetBulbTemperature</th>\n",
              "      <th>DailyAverageWindSpeed</th>\n",
              "      <th>DailyCoolingDegreeDays</th>\n",
              "      <th>DailyDepartureFromNormalAverageTemperature</th>\n",
              "      <th>DailyHeatingDegreeDays</th>\n",
              "      <th>DailyMaximumDryBulbTemperature</th>\n",
              "      <th>DailyMinimumDryBulbTemperature</th>\n",
              "      <th>DailyPeakWindDirection</th>\n",
              "      <th>DailyPeakWindSpeed</th>\n",
              "      <th>DailyPrecipitation</th>\n",
              "      <th>DailySnowDepth</th>\n",
              "      <th>DailySnowfall</th>\n",
              "      <th>DailySustainedWindDirection</th>\n",
              "      <th>DailySustainedWindSpeed</th>\n",
              "      <th>DailyWeather</th>\n",
              "      <th>ELEVATION</th>\n",
              "      <th>HDSD</th>\n",
              "      <th>HTDD</th>\n",
              "      <th>HourlyAltimeterSetting</th>\n",
              "      <th>HourlyDewPointTemperature</th>\n",
              "      <th>HourlyDryBulbTemperature</th>\n",
              "      <th>HourlyPrecipitation</th>\n",
              "      <th>...</th>\n",
              "      <th>MonthlyMinimumTemperature</th>\n",
              "      <th>MonthlySeaLevelPressure</th>\n",
              "      <th>MonthlyStationPressure</th>\n",
              "      <th>MonthlyTotalLiquidPrecipitation</th>\n",
              "      <th>MonthlyTotalSnowfall</th>\n",
              "      <th>MonthlyWetBulb</th>\n",
              "      <th>NAME</th>\n",
              "      <th>NormalsCoolingDegreeDay</th>\n",
              "      <th>NormalsHeatingDegreeDay</th>\n",
              "      <th>REM</th>\n",
              "      <th>REPORT_TYPE</th>\n",
              "      <th>SOURCE</th>\n",
              "      <th>STATION</th>\n",
              "      <th>ShortDurationEndDate005</th>\n",
              "      <th>ShortDurationEndDate010</th>\n",
              "      <th>ShortDurationEndDate015</th>\n",
              "      <th>ShortDurationEndDate020</th>\n",
              "      <th>ShortDurationEndDate030</th>\n",
              "      <th>ShortDurationEndDate045</th>\n",
              "      <th>ShortDurationEndDate060</th>\n",
              "      <th>ShortDurationEndDate080</th>\n",
              "      <th>ShortDurationEndDate100</th>\n",
              "      <th>ShortDurationEndDate120</th>\n",
              "      <th>ShortDurationEndDate150</th>\n",
              "      <th>ShortDurationEndDate180</th>\n",
              "      <th>ShortDurationPrecipitationValue005</th>\n",
              "      <th>ShortDurationPrecipitationValue010</th>\n",
              "      <th>ShortDurationPrecipitationValue015</th>\n",
              "      <th>ShortDurationPrecipitationValue020</th>\n",
              "      <th>ShortDurationPrecipitationValue030</th>\n",
              "      <th>ShortDurationPrecipitationValue045</th>\n",
              "      <th>ShortDurationPrecipitationValue060</th>\n",
              "      <th>ShortDurationPrecipitationValue080</th>\n",
              "      <th>ShortDurationPrecipitationValue100</th>\n",
              "      <th>ShortDurationPrecipitationValue120</th>\n",
              "      <th>ShortDurationPrecipitationValue150</th>\n",
              "      <th>ShortDurationPrecipitationValue180</th>\n",
              "      <th>Sunrise</th>\n",
              "      <th>Sunset</th>\n",
              "      <th>WindEquipmentChangeDate</th>\n",
              "    </tr>\n",
              "    <tr>\n",
              "      <th>DATE</th>\n",
              "      <th></th>\n",
              "      <th></th>\n",
              "      <th></th>\n",
              "      <th></th>\n",
              "      <th></th>\n",
              "      <th></th>\n",
              "      <th></th>\n",
              "      <th></th>\n",
              "      <th></th>\n",
              "      <th></th>\n",
              "      <th></th>\n",
              "      <th></th>\n",
              "      <th></th>\n",
              "      <th></th>\n",
              "      <th></th>\n",
              "      <th></th>\n",
              "      <th></th>\n",
              "      <th></th>\n",
              "      <th></th>\n",
              "      <th></th>\n",
              "      <th></th>\n",
              "      <th></th>\n",
              "      <th></th>\n",
              "      <th></th>\n",
              "      <th></th>\n",
              "      <th></th>\n",
              "      <th></th>\n",
              "      <th></th>\n",
              "      <th></th>\n",
              "      <th></th>\n",
              "      <th></th>\n",
              "      <th></th>\n",
              "      <th></th>\n",
              "      <th></th>\n",
              "      <th></th>\n",
              "      <th></th>\n",
              "      <th></th>\n",
              "      <th></th>\n",
              "      <th></th>\n",
              "      <th></th>\n",
              "      <th></th>\n",
              "      <th></th>\n",
              "      <th></th>\n",
              "      <th></th>\n",
              "      <th></th>\n",
              "      <th></th>\n",
              "      <th></th>\n",
              "      <th></th>\n",
              "      <th></th>\n",
              "      <th></th>\n",
              "      <th></th>\n",
              "      <th></th>\n",
              "      <th></th>\n",
              "      <th></th>\n",
              "      <th></th>\n",
              "      <th></th>\n",
              "      <th></th>\n",
              "      <th></th>\n",
              "      <th></th>\n",
              "      <th></th>\n",
              "      <th></th>\n",
              "      <th></th>\n",
              "      <th></th>\n",
              "      <th></th>\n",
              "      <th></th>\n",
              "      <th></th>\n",
              "      <th></th>\n",
              "      <th></th>\n",
              "      <th></th>\n",
              "      <th></th>\n",
              "      <th></th>\n",
              "      <th></th>\n",
              "      <th></th>\n",
              "      <th></th>\n",
              "      <th></th>\n",
              "      <th></th>\n",
              "      <th></th>\n",
              "      <th></th>\n",
              "      <th></th>\n",
              "      <th></th>\n",
              "      <th></th>\n",
              "    </tr>\n",
              "  </thead>\n",
              "  <tbody>\n",
              "    <tr>\n",
              "      <th>2005-01-01 00:44:00</th>\n",
              "      <td>NaN</td>\n",
              "      <td>NaN</td>\n",
              "      <td>NaN</td>\n",
              "      <td>NaN</td>\n",
              "      <td>NaN</td>\n",
              "      <td>NaN</td>\n",
              "      <td>NaN</td>\n",
              "      <td>NaN</td>\n",
              "      <td>NaN</td>\n",
              "      <td>NaN</td>\n",
              "      <td>NaN</td>\n",
              "      <td>NaN</td>\n",
              "      <td>NaN</td>\n",
              "      <td>NaN</td>\n",
              "      <td>NaN</td>\n",
              "      <td>NaN</td>\n",
              "      <td>NaN</td>\n",
              "      <td>NaN</td>\n",
              "      <td>NaN</td>\n",
              "      <td>NaN</td>\n",
              "      <td>NaN</td>\n",
              "      <td>NaN</td>\n",
              "      <td>NaN</td>\n",
              "      <td>NaN</td>\n",
              "      <td>NaN</td>\n",
              "      <td>NaN</td>\n",
              "      <td>NaN</td>\n",
              "      <td>NaN</td>\n",
              "      <td>NaN</td>\n",
              "      <td>NaN</td>\n",
              "      <td>NaN</td>\n",
              "      <td>NaN</td>\n",
              "      <td>NaN</td>\n",
              "      <td>305.7</td>\n",
              "      <td>NaN</td>\n",
              "      <td>NaN</td>\n",
              "      <td>30.29</td>\n",
              "      <td>50</td>\n",
              "      <td>50</td>\n",
              "      <td>NaN</td>\n",
              "      <td>...</td>\n",
              "      <td>NaN</td>\n",
              "      <td>NaN</td>\n",
              "      <td>NaN</td>\n",
              "      <td>NaN</td>\n",
              "      <td>NaN</td>\n",
              "      <td>NaN</td>\n",
              "      <td>DAYTON INTERNATIONAL AIRPORT, OH US</td>\n",
              "      <td>NaN</td>\n",
              "      <td>NaN</td>\n",
              "      <td>MET10101/01/05 00:45:59 SPECI KDAY 010544Z 220...</td>\n",
              "      <td>FM-16</td>\n",
              "      <td>7</td>\n",
              "      <td>72429093815</td>\n",
              "      <td>NaN</td>\n",
              "      <td>NaN</td>\n",
              "      <td>NaN</td>\n",
              "      <td>NaN</td>\n",
              "      <td>NaN</td>\n",
              "      <td>NaN</td>\n",
              "      <td>NaN</td>\n",
              "      <td>NaN</td>\n",
              "      <td>NaN</td>\n",
              "      <td>NaN</td>\n",
              "      <td>NaN</td>\n",
              "      <td>NaN</td>\n",
              "      <td>NaN</td>\n",
              "      <td>NaN</td>\n",
              "      <td>NaN</td>\n",
              "      <td>NaN</td>\n",
              "      <td>NaN</td>\n",
              "      <td>NaN</td>\n",
              "      <td>NaN</td>\n",
              "      <td>NaN</td>\n",
              "      <td>NaN</td>\n",
              "      <td>NaN</td>\n",
              "      <td>NaN</td>\n",
              "      <td>NaN</td>\n",
              "      <td>NaN</td>\n",
              "      <td>NaN</td>\n",
              "      <td>NaN</td>\n",
              "    </tr>\n",
              "    <tr>\n",
              "      <th>2005-01-01 00:56:00</th>\n",
              "      <td>NaN</td>\n",
              "      <td>NaN</td>\n",
              "      <td>NaN</td>\n",
              "      <td>NaN</td>\n",
              "      <td>NaN</td>\n",
              "      <td>NaN</td>\n",
              "      <td>NaN</td>\n",
              "      <td>NaN</td>\n",
              "      <td>NaN</td>\n",
              "      <td>NaN</td>\n",
              "      <td>NaN</td>\n",
              "      <td>NaN</td>\n",
              "      <td>NaN</td>\n",
              "      <td>NaN</td>\n",
              "      <td>NaN</td>\n",
              "      <td>NaN</td>\n",
              "      <td>NaN</td>\n",
              "      <td>NaN</td>\n",
              "      <td>NaN</td>\n",
              "      <td>NaN</td>\n",
              "      <td>NaN</td>\n",
              "      <td>NaN</td>\n",
              "      <td>NaN</td>\n",
              "      <td>NaN</td>\n",
              "      <td>NaN</td>\n",
              "      <td>NaN</td>\n",
              "      <td>NaN</td>\n",
              "      <td>NaN</td>\n",
              "      <td>NaN</td>\n",
              "      <td>NaN</td>\n",
              "      <td>NaN</td>\n",
              "      <td>NaN</td>\n",
              "      <td>NaN</td>\n",
              "      <td>305.7</td>\n",
              "      <td>NaN</td>\n",
              "      <td>NaN</td>\n",
              "      <td>30.3</td>\n",
              "      <td>50</td>\n",
              "      <td>50</td>\n",
              "      <td>0.00</td>\n",
              "      <td>...</td>\n",
              "      <td>NaN</td>\n",
              "      <td>NaN</td>\n",
              "      <td>NaN</td>\n",
              "      <td>NaN</td>\n",
              "      <td>NaN</td>\n",
              "      <td>NaN</td>\n",
              "      <td>DAYTON INTERNATIONAL AIRPORT, OH US</td>\n",
              "      <td>NaN</td>\n",
              "      <td>NaN</td>\n",
              "      <td>MET11301/01/05 00:56:00 METAR KDAY 010556Z 230...</td>\n",
              "      <td>FM-15</td>\n",
              "      <td>7</td>\n",
              "      <td>72429093815</td>\n",
              "      <td>NaN</td>\n",
              "      <td>NaN</td>\n",
              "      <td>NaN</td>\n",
              "      <td>NaN</td>\n",
              "      <td>NaN</td>\n",
              "      <td>NaN</td>\n",
              "      <td>NaN</td>\n",
              "      <td>NaN</td>\n",
              "      <td>NaN</td>\n",
              "      <td>NaN</td>\n",
              "      <td>NaN</td>\n",
              "      <td>NaN</td>\n",
              "      <td>NaN</td>\n",
              "      <td>NaN</td>\n",
              "      <td>NaN</td>\n",
              "      <td>NaN</td>\n",
              "      <td>NaN</td>\n",
              "      <td>NaN</td>\n",
              "      <td>NaN</td>\n",
              "      <td>NaN</td>\n",
              "      <td>NaN</td>\n",
              "      <td>NaN</td>\n",
              "      <td>NaN</td>\n",
              "      <td>NaN</td>\n",
              "      <td>NaN</td>\n",
              "      <td>NaN</td>\n",
              "      <td>NaN</td>\n",
              "    </tr>\n",
              "    <tr>\n",
              "      <th>2005-01-01 01:00:00</th>\n",
              "      <td>NaN</td>\n",
              "      <td>NaN</td>\n",
              "      <td>NaN</td>\n",
              "      <td>NaN</td>\n",
              "      <td>NaN</td>\n",
              "      <td>NaN</td>\n",
              "      <td>NaN</td>\n",
              "      <td>NaN</td>\n",
              "      <td>NaN</td>\n",
              "      <td>NaN</td>\n",
              "      <td>NaN</td>\n",
              "      <td>NaN</td>\n",
              "      <td>NaN</td>\n",
              "      <td>NaN</td>\n",
              "      <td>NaN</td>\n",
              "      <td>NaN</td>\n",
              "      <td>NaN</td>\n",
              "      <td>NaN</td>\n",
              "      <td>NaN</td>\n",
              "      <td>NaN</td>\n",
              "      <td>NaN</td>\n",
              "      <td>NaN</td>\n",
              "      <td>NaN</td>\n",
              "      <td>NaN</td>\n",
              "      <td>NaN</td>\n",
              "      <td>NaN</td>\n",
              "      <td>NaN</td>\n",
              "      <td>NaN</td>\n",
              "      <td>NaN</td>\n",
              "      <td>NaN</td>\n",
              "      <td>NaN</td>\n",
              "      <td>NaN</td>\n",
              "      <td>NaN</td>\n",
              "      <td>305.7</td>\n",
              "      <td>NaN</td>\n",
              "      <td>NaN</td>\n",
              "      <td>NaN</td>\n",
              "      <td>50</td>\n",
              "      <td>50</td>\n",
              "      <td>NaN</td>\n",
              "      <td>...</td>\n",
              "      <td>NaN</td>\n",
              "      <td>NaN</td>\n",
              "      <td>NaN</td>\n",
              "      <td>NaN</td>\n",
              "      <td>NaN</td>\n",
              "      <td>NaN</td>\n",
              "      <td>DAYTON INTERNATIONAL AIRPORT, OH US</td>\n",
              "      <td>NaN</td>\n",
              "      <td>NaN</td>\n",
              "      <td>SYN098AAXX  01064 72429 31132 82309 10100 2010...</td>\n",
              "      <td>FM-12</td>\n",
              "      <td>4</td>\n",
              "      <td>72429093815</td>\n",
              "      <td>NaN</td>\n",
              "      <td>NaN</td>\n",
              "      <td>NaN</td>\n",
              "      <td>NaN</td>\n",
              "      <td>NaN</td>\n",
              "      <td>NaN</td>\n",
              "      <td>NaN</td>\n",
              "      <td>NaN</td>\n",
              "      <td>NaN</td>\n",
              "      <td>NaN</td>\n",
              "      <td>NaN</td>\n",
              "      <td>NaN</td>\n",
              "      <td>NaN</td>\n",
              "      <td>NaN</td>\n",
              "      <td>NaN</td>\n",
              "      <td>NaN</td>\n",
              "      <td>NaN</td>\n",
              "      <td>NaN</td>\n",
              "      <td>NaN</td>\n",
              "      <td>NaN</td>\n",
              "      <td>NaN</td>\n",
              "      <td>NaN</td>\n",
              "      <td>NaN</td>\n",
              "      <td>NaN</td>\n",
              "      <td>NaN</td>\n",
              "      <td>NaN</td>\n",
              "      <td>NaN</td>\n",
              "    </tr>\n",
              "    <tr>\n",
              "      <th>2005-01-01 01:11:00</th>\n",
              "      <td>NaN</td>\n",
              "      <td>NaN</td>\n",
              "      <td>NaN</td>\n",
              "      <td>NaN</td>\n",
              "      <td>NaN</td>\n",
              "      <td>NaN</td>\n",
              "      <td>NaN</td>\n",
              "      <td>NaN</td>\n",
              "      <td>NaN</td>\n",
              "      <td>NaN</td>\n",
              "      <td>NaN</td>\n",
              "      <td>NaN</td>\n",
              "      <td>NaN</td>\n",
              "      <td>NaN</td>\n",
              "      <td>NaN</td>\n",
              "      <td>NaN</td>\n",
              "      <td>NaN</td>\n",
              "      <td>NaN</td>\n",
              "      <td>NaN</td>\n",
              "      <td>NaN</td>\n",
              "      <td>NaN</td>\n",
              "      <td>NaN</td>\n",
              "      <td>NaN</td>\n",
              "      <td>NaN</td>\n",
              "      <td>NaN</td>\n",
              "      <td>NaN</td>\n",
              "      <td>NaN</td>\n",
              "      <td>NaN</td>\n",
              "      <td>NaN</td>\n",
              "      <td>NaN</td>\n",
              "      <td>NaN</td>\n",
              "      <td>NaN</td>\n",
              "      <td>NaN</td>\n",
              "      <td>305.7</td>\n",
              "      <td>NaN</td>\n",
              "      <td>NaN</td>\n",
              "      <td>30.3</td>\n",
              "      <td>52</td>\n",
              "      <td>52</td>\n",
              "      <td>NaN</td>\n",
              "      <td>...</td>\n",
              "      <td>NaN</td>\n",
              "      <td>NaN</td>\n",
              "      <td>NaN</td>\n",
              "      <td>NaN</td>\n",
              "      <td>NaN</td>\n",
              "      <td>NaN</td>\n",
              "      <td>DAYTON INTERNATIONAL AIRPORT, OH US</td>\n",
              "      <td>NaN</td>\n",
              "      <td>NaN</td>\n",
              "      <td>MET09001/01/05 01:11:00 SPECI KDAY 010611Z 230...</td>\n",
              "      <td>FM-16</td>\n",
              "      <td>7</td>\n",
              "      <td>72429093815</td>\n",
              "      <td>NaN</td>\n",
              "      <td>NaN</td>\n",
              "      <td>NaN</td>\n",
              "      <td>NaN</td>\n",
              "      <td>NaN</td>\n",
              "      <td>NaN</td>\n",
              "      <td>NaN</td>\n",
              "      <td>NaN</td>\n",
              "      <td>NaN</td>\n",
              "      <td>NaN</td>\n",
              "      <td>NaN</td>\n",
              "      <td>NaN</td>\n",
              "      <td>NaN</td>\n",
              "      <td>NaN</td>\n",
              "      <td>NaN</td>\n",
              "      <td>NaN</td>\n",
              "      <td>NaN</td>\n",
              "      <td>NaN</td>\n",
              "      <td>NaN</td>\n",
              "      <td>NaN</td>\n",
              "      <td>NaN</td>\n",
              "      <td>NaN</td>\n",
              "      <td>NaN</td>\n",
              "      <td>NaN</td>\n",
              "      <td>NaN</td>\n",
              "      <td>NaN</td>\n",
              "      <td>NaN</td>\n",
              "    </tr>\n",
              "    <tr>\n",
              "      <th>2005-01-01 01:20:00</th>\n",
              "      <td>NaN</td>\n",
              "      <td>NaN</td>\n",
              "      <td>NaN</td>\n",
              "      <td>NaN</td>\n",
              "      <td>NaN</td>\n",
              "      <td>NaN</td>\n",
              "      <td>NaN</td>\n",
              "      <td>NaN</td>\n",
              "      <td>NaN</td>\n",
              "      <td>NaN</td>\n",
              "      <td>NaN</td>\n",
              "      <td>NaN</td>\n",
              "      <td>NaN</td>\n",
              "      <td>NaN</td>\n",
              "      <td>NaN</td>\n",
              "      <td>NaN</td>\n",
              "      <td>NaN</td>\n",
              "      <td>NaN</td>\n",
              "      <td>NaN</td>\n",
              "      <td>NaN</td>\n",
              "      <td>NaN</td>\n",
              "      <td>NaN</td>\n",
              "      <td>NaN</td>\n",
              "      <td>NaN</td>\n",
              "      <td>NaN</td>\n",
              "      <td>NaN</td>\n",
              "      <td>NaN</td>\n",
              "      <td>NaN</td>\n",
              "      <td>NaN</td>\n",
              "      <td>NaN</td>\n",
              "      <td>NaN</td>\n",
              "      <td>NaN</td>\n",
              "      <td>NaN</td>\n",
              "      <td>305.7</td>\n",
              "      <td>NaN</td>\n",
              "      <td>NaN</td>\n",
              "      <td>30.3</td>\n",
              "      <td>52</td>\n",
              "      <td>52</td>\n",
              "      <td>NaN</td>\n",
              "      <td>...</td>\n",
              "      <td>NaN</td>\n",
              "      <td>NaN</td>\n",
              "      <td>NaN</td>\n",
              "      <td>NaN</td>\n",
              "      <td>NaN</td>\n",
              "      <td>NaN</td>\n",
              "      <td>DAYTON INTERNATIONAL AIRPORT, OH US</td>\n",
              "      <td>NaN</td>\n",
              "      <td>NaN</td>\n",
              "      <td>MET10801/01/05 01:20:00 SPECI KDAY 010620Z 240...</td>\n",
              "      <td>FM-16</td>\n",
              "      <td>7</td>\n",
              "      <td>72429093815</td>\n",
              "      <td>NaN</td>\n",
              "      <td>NaN</td>\n",
              "      <td>NaN</td>\n",
              "      <td>NaN</td>\n",
              "      <td>NaN</td>\n",
              "      <td>NaN</td>\n",
              "      <td>NaN</td>\n",
              "      <td>NaN</td>\n",
              "      <td>NaN</td>\n",
              "      <td>NaN</td>\n",
              "      <td>NaN</td>\n",
              "      <td>NaN</td>\n",
              "      <td>NaN</td>\n",
              "      <td>NaN</td>\n",
              "      <td>NaN</td>\n",
              "      <td>NaN</td>\n",
              "      <td>NaN</td>\n",
              "      <td>NaN</td>\n",
              "      <td>NaN</td>\n",
              "      <td>NaN</td>\n",
              "      <td>NaN</td>\n",
              "      <td>NaN</td>\n",
              "      <td>NaN</td>\n",
              "      <td>NaN</td>\n",
              "      <td>NaN</td>\n",
              "      <td>NaN</td>\n",
              "      <td>NaN</td>\n",
              "    </tr>\n",
              "  </tbody>\n",
              "</table>\n",
              "<p>5 rows × 122 columns</p>\n",
              "</div>"
            ],
            "text/plain": [
              "                     AWND  BackupDirection  ...  Sunset  WindEquipmentChangeDate\n",
              "DATE                                        ...                                 \n",
              "2005-01-01 00:44:00   NaN              NaN  ...     NaN                      NaN\n",
              "2005-01-01 00:56:00   NaN              NaN  ...     NaN                      NaN\n",
              "2005-01-01 01:00:00   NaN              NaN  ...     NaN                      NaN\n",
              "2005-01-01 01:11:00   NaN              NaN  ...     NaN                      NaN\n",
              "2005-01-01 01:20:00   NaN              NaN  ...     NaN                      NaN\n",
              "\n",
              "[5 rows x 122 columns]"
            ]
          },
          "metadata": {
            "tags": []
          },
          "execution_count": 7
        }
      ]
    },
    {
      "cell_type": "code",
      "metadata": {
        "id": "K5gYTmPzINcq",
        "colab_type": "code",
        "colab": {
          "base_uri": "https://localhost:8080/",
          "height": 221
        },
        "outputId": "f292a0fe-7933-4c3d-895d-592b3ff8a064"
      },
      "source": [
        "df_weather.isnull().sum()"
      ],
      "execution_count": 8,
      "outputs": [
        {
          "output_type": "execute_result",
          "data": {
            "text/plain": [
              "AWND                                  153535\n",
              "BackupDirection                       153663\n",
              "BackupDistance                        153663\n",
              "BackupDistanceUnit                    153663\n",
              "BackupElements                        153663\n",
              "                                       ...  \n",
              "ShortDurationPrecipitationValue150    153547\n",
              "ShortDurationPrecipitationValue180    153547\n",
              "Sunrise                               149650\n",
              "Sunset                                149650\n",
              "WindEquipmentChangeDate               153663\n",
              "Length: 122, dtype: int64"
            ]
          },
          "metadata": {
            "tags": []
          },
          "execution_count": 8
        }
      ]
    },
    {
      "cell_type": "code",
      "metadata": {
        "id": "qllMm_O7LXm-",
        "colab_type": "code",
        "colab": {}
      },
      "source": [
        "# Drop the columns that are extraneous or have excessive NaN values...\n",
        "# The data covers 11 years (w/ 2 leap years) so there should be\n",
        "# 11*365*24+48 = 96408 observations. Because observations were taken more than\n",
        "# 24 times a day there are actually 153663 rows. Excessive NaN values will be\n",
        "# considered at a threshold of 153663-96408 = 57255 because I am assuming that\n",
        "# I can interpolate the hourly observation well enough\n",
        "dropped_columns = ['HourlyAltimeterSetting',\n",
        "                   'HourlyPresentWeatherType',\n",
        "                   'HourlyPressureChange',\n",
        "                   'HourlyPressureTendency',\n",
        "                   'HourlySkyConditions',\n",
        "                   'HourlyWetBulbTemperature',\n",
        "                   'HourlyWindGustSpeed']\n",
        "for col in dropped_columns:\n",
        "  columns_hourly.remove(col)\n",
        "# Extraneous reasoning:\n",
        "# The altimeter setting should be fairly consistent from the same weather station\n",
        "# Sky conditions is written in a code of strings and would have to be\n",
        "# extensively cleaned to be useful. Could re-add later\n",
        "# Wet bulb temperature is too similar to dry bulb temp and I have chosen to use\n",
        "# dry bulb temp to approximate the air temp"
      ],
      "execution_count": 0,
      "outputs": []
    },
    {
      "cell_type": "markdown",
      "metadata": {
        "id": "1KbaNMfgUNCm",
        "colab_type": "text"
      },
      "source": [
        "### Create function to clean the string values and turn them into floats"
      ]
    },
    {
      "cell_type": "code",
      "metadata": {
        "id": "ASOYm13WFOc9",
        "colab_type": "code",
        "colab": {}
      },
      "source": [
        "# Create a function that removes extra stuff and converts to float\n",
        "# for numeric variables\n",
        "def clean_numeric(df, columns):\n",
        "  for col in columns:\n",
        "    df[col] = df[col].apply(str)\n",
        "    df[col] = df[col].map(lambda x: x.rstrip('TsV*'))\n",
        "    df[col] = df[col].replace({'':np.nan})\n",
        "    df[col] = df[col].replace({'0.220.20':np.nan}) # Specific issue that was found\n",
        "    df[col] = df[col].replace({'VRB':np.nan}) # Specific issue that was found\n",
        "    df[col] = df[col].apply(float)\n",
        "  return df[columns]"
      ],
      "execution_count": 0,
      "outputs": []
    },
    {
      "cell_type": "markdown",
      "metadata": {
        "id": "bxRtAhxpUVra",
        "colab_type": "text"
      },
      "source": [
        "### Create function to change the timescale from minutes to hourly"
      ]
    },
    {
      "cell_type": "code",
      "metadata": {
        "id": "C7NLdrCYGd8N",
        "colab_type": "code",
        "colab": {}
      },
      "source": [
        "# Create a function that converts the exact minute resolution\n",
        "# to hourly using resample and mean()\n",
        "def time_conversion(series):\n",
        "  series = series.copy()\n",
        "  series = series.resample('H').mean()\n",
        "  return series"
      ],
      "execution_count": 0,
      "outputs": []
    },
    {
      "cell_type": "markdown",
      "metadata": {
        "id": "90WFTCDCUdXo",
        "colab_type": "text"
      },
      "source": [
        "### Apply the functions to the data"
      ]
    },
    {
      "cell_type": "code",
      "metadata": {
        "id": "vwAcXfmBQmLU",
        "colab_type": "code",
        "colab": {}
      },
      "source": [
        "# Use the clean_numeric function on the remaining hourly columns\n",
        "df_weather = clean_numeric(df_weather, columns_hourly)"
      ],
      "execution_count": 0,
      "outputs": []
    },
    {
      "cell_type": "code",
      "metadata": {
        "id": "kOxBvb3LR0Uq",
        "colab_type": "code",
        "colab": {
          "base_uri": "https://localhost:8080/",
          "height": 187
        },
        "outputId": "cd9afc62-198f-47a5-9135-073d06eee19f"
      },
      "source": [
        "df_weather.isnull().sum()\n",
        "# Hourly precipitation is now over the previous NaN value threshold but I will\n",
        "# keep it for now"
      ],
      "execution_count": 13,
      "outputs": [
        {
          "output_type": "execute_result",
          "data": {
            "text/plain": [
              "HourlyDewPointTemperature     4245\n",
              "HourlyDryBulbTemperature      4225\n",
              "HourlyPrecipitation          59241\n",
              "HourlyRelativeHumidity        4245\n",
              "HourlySeaLevelPressure       29899\n",
              "HourlyStationPressure         5467\n",
              "HourlyVisibility              4154\n",
              "HourlyWindDirection           6166\n",
              "HourlyWindSpeed               4356\n",
              "dtype: int64"
            ]
          },
          "metadata": {
            "tags": []
          },
          "execution_count": 13
        }
      ]
    },
    {
      "cell_type": "code",
      "metadata": {
        "id": "lB31SgzrU4Hg",
        "colab_type": "code",
        "colab": {}
      },
      "source": [
        "# Put the resampled values in a new df with the desired datetime index\n",
        "index = index = pd.date_range(start='1/1/2005',\n",
        "                              end='12/31/2015',freq='H')\n",
        "df_weather = pd.DataFrame(data=df_weather.apply(time_conversion),\n",
        "                       index=index)"
      ],
      "execution_count": 0,
      "outputs": []
    },
    {
      "cell_type": "code",
      "metadata": {
        "id": "FpM3gZyGkxvK",
        "colab_type": "code",
        "colab": {
          "base_uri": "https://localhost:8080/",
          "height": 187
        },
        "outputId": "69ea1ae6-f117-43ab-de9d-0155a060130a"
      },
      "source": [
        "df_weather.isnull().sum()\n",
        "# Why are there still null values?\n",
        "# Not enough observations to fully interpolate?"
      ],
      "execution_count": 15,
      "outputs": [
        {
          "output_type": "execute_result",
          "data": {
            "text/plain": [
              "HourlyDewPointTemperature      68\n",
              "HourlyDryBulbTemperature       58\n",
              "HourlyPrecipitation          8710\n",
              "HourlyRelativeHumidity         68\n",
              "HourlySeaLevelPressure        175\n",
              "HourlyStationPressure         301\n",
              "HourlyVisibility               58\n",
              "HourlyWindDirection          1113\n",
              "HourlyWindSpeed                66\n",
              "dtype: int64"
            ]
          },
          "metadata": {
            "tags": []
          },
          "execution_count": 15
        }
      ]
    },
    {
      "cell_type": "code",
      "metadata": {
        "id": "iaFy55npV1fl",
        "colab_type": "code",
        "colab": {
          "base_uri": "https://localhost:8080/",
          "height": 394
        },
        "outputId": "a3a2f6f8-fada-4198-b15a-31f73ce07720"
      },
      "source": [
        "df_weather.head()"
      ],
      "execution_count": 16,
      "outputs": [
        {
          "output_type": "execute_result",
          "data": {
            "text/html": [
              "<div>\n",
              "<style scoped>\n",
              "    .dataframe tbody tr th:only-of-type {\n",
              "        vertical-align: middle;\n",
              "    }\n",
              "\n",
              "    .dataframe tbody tr th {\n",
              "        vertical-align: top;\n",
              "    }\n",
              "\n",
              "    .dataframe thead th {\n",
              "        text-align: right;\n",
              "    }\n",
              "</style>\n",
              "<table border=\"1\" class=\"dataframe\">\n",
              "  <thead>\n",
              "    <tr style=\"text-align: right;\">\n",
              "      <th></th>\n",
              "      <th>HourlyDewPointTemperature</th>\n",
              "      <th>HourlyDryBulbTemperature</th>\n",
              "      <th>HourlyPrecipitation</th>\n",
              "      <th>HourlyRelativeHumidity</th>\n",
              "      <th>HourlySeaLevelPressure</th>\n",
              "      <th>HourlyStationPressure</th>\n",
              "      <th>HourlyVisibility</th>\n",
              "      <th>HourlyWindDirection</th>\n",
              "      <th>HourlyWindSpeed</th>\n",
              "    </tr>\n",
              "  </thead>\n",
              "  <tbody>\n",
              "    <tr>\n",
              "      <th>2005-01-01 00:00:00</th>\n",
              "      <td>50.000000</td>\n",
              "      <td>50.000000</td>\n",
              "      <td>0.0</td>\n",
              "      <td>100.0</td>\n",
              "      <td>30.300</td>\n",
              "      <td>29.215000</td>\n",
              "      <td>1.500</td>\n",
              "      <td>225.000000</td>\n",
              "      <td>11.500000</td>\n",
              "    </tr>\n",
              "    <tr>\n",
              "      <th>2005-01-01 01:00:00</th>\n",
              "      <td>50.833333</td>\n",
              "      <td>50.833333</td>\n",
              "      <td>0.0</td>\n",
              "      <td>100.0</td>\n",
              "      <td>30.305</td>\n",
              "      <td>29.223333</td>\n",
              "      <td>1.415</td>\n",
              "      <td>226.666667</td>\n",
              "      <td>8.666667</td>\n",
              "    </tr>\n",
              "    <tr>\n",
              "      <th>2005-01-01 02:00:00</th>\n",
              "      <td>50.000000</td>\n",
              "      <td>50.000000</td>\n",
              "      <td>0.0</td>\n",
              "      <td>100.0</td>\n",
              "      <td>30.320</td>\n",
              "      <td>29.240000</td>\n",
              "      <td>0.250</td>\n",
              "      <td>200.000000</td>\n",
              "      <td>6.000000</td>\n",
              "    </tr>\n",
              "    <tr>\n",
              "      <th>2005-01-01 03:00:00</th>\n",
              "      <td>50.000000</td>\n",
              "      <td>50.000000</td>\n",
              "      <td>0.0</td>\n",
              "      <td>100.0</td>\n",
              "      <td>30.340</td>\n",
              "      <td>29.250000</td>\n",
              "      <td>0.250</td>\n",
              "      <td>200.000000</td>\n",
              "      <td>3.000000</td>\n",
              "    </tr>\n",
              "    <tr>\n",
              "      <th>2005-01-01 04:00:00</th>\n",
              "      <td>50.000000</td>\n",
              "      <td>50.000000</td>\n",
              "      <td>0.0</td>\n",
              "      <td>100.0</td>\n",
              "      <td>30.340</td>\n",
              "      <td>29.255000</td>\n",
              "      <td>0.250</td>\n",
              "      <td>100.000000</td>\n",
              "      <td>1.500000</td>\n",
              "    </tr>\n",
              "  </tbody>\n",
              "</table>\n",
              "</div>"
            ],
            "text/plain": [
              "                     HourlyDewPointTemperature  ...  HourlyWindSpeed\n",
              "2005-01-01 00:00:00                  50.000000  ...        11.500000\n",
              "2005-01-01 01:00:00                  50.833333  ...         8.666667\n",
              "2005-01-01 02:00:00                  50.000000  ...         6.000000\n",
              "2005-01-01 03:00:00                  50.000000  ...         3.000000\n",
              "2005-01-01 04:00:00                  50.000000  ...         1.500000\n",
              "\n",
              "[5 rows x 9 columns]"
            ]
          },
          "metadata": {
            "tags": []
          },
          "execution_count": 16
        }
      ]
    },
    {
      "cell_type": "code",
      "metadata": {
        "id": "zDBsj0s7X-qV",
        "colab_type": "code",
        "colab": {}
      },
      "source": [
        "test = df_weather['HourlyDewPointTemperature'] == df_weather['HourlyDryBulbTemperature']"
      ],
      "execution_count": 0,
      "outputs": []
    },
    {
      "cell_type": "code",
      "metadata": {
        "id": "CWZluwwYYEIT",
        "colab_type": "code",
        "colab": {
          "base_uri": "https://localhost:8080/",
          "height": 68
        },
        "outputId": "3b5cbaa6-5298-41b4-e968-bb2e8bd27bea"
      },
      "source": [
        "test.value_counts()"
      ],
      "execution_count": 18,
      "outputs": [
        {
          "output_type": "execute_result",
          "data": {
            "text/plain": [
              "False    95428\n",
              "True       957\n",
              "dtype: int64"
            ]
          },
          "metadata": {
            "tags": []
          },
          "execution_count": 18
        }
      ]
    },
    {
      "cell_type": "markdown",
      "metadata": {
        "id": "Ixsj4gsQbMbA",
        "colab_type": "text"
      },
      "source": [
        "## Compare the distributions of the cleaned features with the originals to make sure everything looks good and the data is still in tact"
      ]
    },
    {
      "cell_type": "code",
      "metadata": {
        "id": "6aKF369Ebev3",
        "colab_type": "code",
        "colab": {}
      },
      "source": [
        "# Create a df of the original numeric columns converted to floats\n",
        "# but not resampled\n",
        "dist_weather = clean_numeric(df,columns_hourly)"
      ],
      "execution_count": 0,
      "outputs": []
    },
    {
      "cell_type": "code",
      "metadata": {
        "id": "ElaBTb_CjN7z",
        "colab_type": "code",
        "colab": {
          "base_uri": "https://localhost:8080/",
          "height": 34
        },
        "outputId": "3a9fd584-b745-4565-d7d9-3afd4f729334"
      },
      "source": [
        "dist_weather.shape, df_weather.shape"
      ],
      "execution_count": 20,
      "outputs": [
        {
          "output_type": "execute_result",
          "data": {
            "text/plain": [
              "((153663, 9), (96385, 9))"
            ]
          },
          "metadata": {
            "tags": []
          },
          "execution_count": 20
        }
      ]
    },
    {
      "cell_type": "code",
      "metadata": {
        "id": "LfIY7awFYMR6",
        "colab_type": "code",
        "colab": {
          "base_uri": "https://localhost:8080/",
          "height": 381
        },
        "outputId": "3a3c9e85-3a63-4290-ca41-d56bcee6e558"
      },
      "source": [
        "# Doing every single distplot was crashing the runtime so most are commented out\n",
        "ax1 = sns.distplot(dist_weather['HourlyDewPointTemperature'],color='blue')\n",
        "ax2 = sns.distplot(df_weather['HourlyDewPointTemperature'],color='yellow')\n",
        "print(dist_weather['HourlyDewPointTemperature'].isnull().value_counts())\n",
        "print(df_weather['HourlyDewPointTemperature'].isnull().value_counts())\n",
        "ax1, ax2;"
      ],
      "execution_count": 21,
      "outputs": [
        {
          "output_type": "stream",
          "text": [
            "False    149418\n",
            "True       4245\n",
            "Name: HourlyDewPointTemperature, dtype: int64\n",
            "False    96317\n",
            "True        68\n",
            "Name: HourlyDewPointTemperature, dtype: int64\n"
          ],
          "name": "stdout"
        },
        {
          "output_type": "display_data",
          "data": {
            "image/png": "[encoded data removed]",
            "text/plain": [
              "<Figure size 432x288 with 1 Axes>"
            ]
          },
          "metadata": {
            "tags": []
          }
        }
      ]
    },
    {
      "cell_type": "code",
      "metadata": {
        "id": "c3RJYtrIirvd",
        "colab_type": "code",
        "colab": {
          "base_uri": "https://localhost:8080/",
          "height": 381
        },
        "outputId": "28d5cc5c-4221-40b3-b915-95396c36e662"
      },
      "source": [
        "ax1 = sns.distplot(dist_weather['HourlyDryBulbTemperature'],color='blue')\n",
        "ax2 = sns.distplot(df_weather['HourlyDryBulbTemperature'],color='yellow')\n",
        "print(dist_weather['HourlyDryBulbTemperature'].isnull().value_counts())\n",
        "print(df_weather['HourlyDryBulbTemperature'].isnull().value_counts())\n",
        "ax1, ax2;"
      ],
      "execution_count": 22,
      "outputs": [
        {
          "output_type": "stream",
          "text": [
            "False    149438\n",
            "True       4225\n",
            "Name: HourlyDryBulbTemperature, dtype: int64\n",
            "False    96327\n",
            "True        58\n",
            "Name: HourlyDryBulbTemperature, dtype: int64\n"
          ],
          "name": "stdout"
        },
        {
          "output_type": "display_data",
          "data": {
            "image/png": "[encoded data removed]",
            "text/plain": [
              "<Figure size 432x288 with 1 Axes>"
            ]
          },
          "metadata": {
            "tags": []
          }
        }
      ]
    },
    {
      "cell_type": "code",
      "metadata": {
        "id": "fum7V06OjFp3",
        "colab_type": "code",
        "colab": {}
      },
      "source": [
        "# ax1 = sns.distplot(dist_weather['HourlyPrecipitation'],color='blue')\n",
        "# ax2 = sns.distplot(df_weather['HourlyPrecipitation'],color='yellow')\n",
        "# print(dist_weather['HourlyPrecipitation'].isnull().value_counts())\n",
        "# print(df_weather['HourlyPrecipitation'].isnull().value_counts())\n",
        "# ax1, ax2;"
      ],
      "execution_count": 0,
      "outputs": []
    },
    {
      "cell_type": "code",
      "metadata": {
        "id": "im_l7pECjUSl",
        "colab_type": "code",
        "colab": {}
      },
      "source": [
        "# ax1 = sns.distplot(dist_weather['HourlyRelativeHumidity'],color='blue')\n",
        "# ax2 = sns.distplot(df_weather['HourlyRelativeHumidity'],color='yellow')\n",
        "# print(dist_weather['HourlyRelativeHumidity'].isnull().value_counts())\n",
        "# print(df_weather['HourlyRelativeHumidity'].isnull().value_counts())\n",
        "# ax1, ax2;"
      ],
      "execution_count": 0,
      "outputs": []
    },
    {
      "cell_type": "code",
      "metadata": {
        "id": "IZk-F9WGjd9p",
        "colab_type": "code",
        "colab": {}
      },
      "source": [
        "# ax1 = sns.distplot(dist_weather['HourlySeaLevelPressure'],color='blue')\n",
        "# ax2 = sns.distplot(df_weather['HourlySeaLevelPressure'],color='yellow')\n",
        "# print(dist_weather['HourlySeaLevelPressure'].isnull().value_counts())\n",
        "# print(df_weather['HourlySeaLevelPressure'].isnull().value_counts())\n",
        "# ax1, ax2;"
      ],
      "execution_count": 0,
      "outputs": []
    },
    {
      "cell_type": "code",
      "metadata": {
        "id": "Fdw5xZzAjjuS",
        "colab_type": "code",
        "colab": {}
      },
      "source": [
        "# ax1 = sns.distplot(dist_weather['HourlyStationPressure'],color='blue')\n",
        "# ax2 = sns.distplot(df_weather['HourlyStationPressure'],color='yellow')\n",
        "# print(dist_weather['HourlyStationPressure'].isnull().value_counts())\n",
        "# print(df_weather['HourlyStationPressure'].isnull().value_counts())\n",
        "# ax1, ax2;"
      ],
      "execution_count": 0,
      "outputs": []
    },
    {
      "cell_type": "code",
      "metadata": {
        "id": "uFAu-ZM9jpep",
        "colab_type": "code",
        "colab": {}
      },
      "source": [
        "# ax1 = sns.distplot(dist_weather['HourlyVisibility'],color='blue')\n",
        "# ax2 = sns.distplot(df_weather['HourlyVisibility'],color='yellow')\n",
        "# print(dist_weather['HourlyVisibility'].isnull().value_counts())\n",
        "# print(df_weather['HourlyVisibility'].isnull().value_counts())\n",
        "# ax1, ax2;"
      ],
      "execution_count": 0,
      "outputs": []
    },
    {
      "cell_type": "code",
      "metadata": {
        "id": "Ht9TX4rvjwgv",
        "colab_type": "code",
        "colab": {}
      },
      "source": [
        "# ax1 = sns.distplot(dist_weather['HourlyWindDirection'],color='blue')\n",
        "# ax2 = sns.distplot(df_weather['HourlyWindDirection'],color='yellow')\n",
        "# print(dist_weather['HourlyWindDirection'].isnull().value_counts())\n",
        "# print(df_weather['HourlyWindDirection'].isnull().value_counts())\n",
        "# ax1, ax2;"
      ],
      "execution_count": 0,
      "outputs": []
    },
    {
      "cell_type": "code",
      "metadata": {
        "id": "8XjWrx5cj0qS",
        "colab_type": "code",
        "colab": {}
      },
      "source": [
        "# ax1 = sns.distplot(dist_weather['HourlyWindSpeed'],color='blue')\n",
        "# ax2 = sns.distplot(df_weather['HourlyWindSpeed'],color='yellow')\n",
        "# print(dist_weather['HourlyWindSpeed'].isnull().value_counts())\n",
        "# print(df_weather['HourlyWindSpeed'].isnull().value_counts())\n",
        "# ax1, ax2;"
      ],
      "execution_count": 0,
      "outputs": []
    },
    {
      "cell_type": "code",
      "metadata": {
        "id": "GlihV-d4muHn",
        "colab_type": "code",
        "colab": {}
      },
      "source": [
        "# Are the distributions too different?\n",
        "\n",
        "# Should I have resampled/interpolated in a different way?\n",
        "\n",
        "# Could the differences be explained by the fact that there are now less \n",
        "# observations after resampling and I am only seeing a difference of \n",
        "# percentages rather than a difference in information?"
      ],
      "execution_count": 0,
      "outputs": []
    },
    {
      "cell_type": "markdown",
      "metadata": {
        "id": "SpM8pUPoTyJK",
        "colab_type": "text"
      },
      "source": [
        "## Create function to add year, month, day, and season variables"
      ]
    },
    {
      "cell_type": "code",
      "metadata": {
        "id": "XykiFP5YEkvO",
        "colab_type": "code",
        "colab": {}
      },
      "source": [
        "# Create year, month, day, and season variables\n",
        "def add_time(df):\n",
        "  df = df.copy()\n",
        "  df['year'] = df.index.year\n",
        "  df['month'] = df.index.month\n",
        "  df['date'] = df.index.dayofyear\n",
        "  df['timestamp'] = df.index.time\n",
        "  df['season'] = (df.index.month%12 + 3)//3\n",
        "  df['season'] = df['season'].replace({1:'winter',\n",
        "                                      2:'spring',\n",
        "                                      3:'summer',\n",
        "                                      4:'fall'})\n",
        "  return df"
      ],
      "execution_count": 0,
      "outputs": []
    },
    {
      "cell_type": "code",
      "metadata": {
        "id": "1nOuY0OXqvOy",
        "colab_type": "code",
        "colab": {}
      },
      "source": [
        "df_weather = add_time(df_weather)"
      ],
      "execution_count": 0,
      "outputs": []
    },
    {
      "cell_type": "code",
      "metadata": {
        "id": "LCqwwVXorksV",
        "colab_type": "code",
        "colab": {
          "base_uri": "https://localhost:8080/",
          "height": 34
        },
        "outputId": "67b03929-5abe-4aa6-e1bc-5c8ff52e8e90"
      },
      "source": [
        "df_weather.shape\n",
        "# The shape is wrong"
      ],
      "execution_count": 33,
      "outputs": [
        {
          "output_type": "execute_result",
          "data": {
            "text/plain": [
              "(96385, 14)"
            ]
          },
          "metadata": {
            "tags": []
          },
          "execution_count": 33
        }
      ]
    },
    {
      "cell_type": "code",
      "metadata": {
        "id": "O8-a-nJurmMl",
        "colab_type": "code",
        "colab": {
          "base_uri": "https://localhost:8080/",
          "height": 279
        },
        "outputId": "20847229-3c5a-41a8-dcf5-5eda6e85cd3a"
      },
      "source": [
        "# Check out the distribution of the dates\n",
        "sns.distplot(df_weather['date'],kde=False);\n",
        "# Missing some...might be a problem when using lagged variables"
      ],
      "execution_count": 34,
      "outputs": [
        {
          "output_type": "display_data",
          "data": {
            "image/png": "[encoded data removed]",
            "text/plain": [
              "<Figure size 432x288 with 1 Axes>"
            ]
          },
          "metadata": {
            "tags": []
          }
        }
      ]
    },
    {
      "cell_type": "markdown",
      "metadata": {
        "id": "dj5cnn55o34n",
        "colab_type": "text"
      },
      "source": [
        "# Import daily temperature data"
      ]
    },
    {
      "cell_type": "code",
      "metadata": {
        "id": "lwSK4Rqvo8wm",
        "colab_type": "code",
        "colab": {
          "base_uri": "https://localhost:8080/",
          "height": 204
        },
        "outputId": "c5afab9a-8b5a-4b17-cf03-27c12304b9f6"
      },
      "source": [
        "df_daily_temp = pd.read_csv('https://github.com/cjakuc/DS-Unit1-Build-Week/raw/master/Weather%20Data/dayton_daily_temp.csv',\n",
        "                             parse_dates=True,\n",
        "                             index_col=0)\n",
        "df_daily_temp = add_time(df_daily_temp)\n",
        "df_daily_temp.head()"
      ],
      "execution_count": 35,
      "outputs": [
        {
          "output_type": "execute_result",
          "data": {
            "text/html": [
              "<div>\n",
              "<style scoped>\n",
              "    .dataframe tbody tr th:only-of-type {\n",
              "        vertical-align: middle;\n",
              "    }\n",
              "\n",
              "    .dataframe tbody tr th {\n",
              "        vertical-align: top;\n",
              "    }\n",
              "\n",
              "    .dataframe thead th {\n",
              "        text-align: right;\n",
              "    }\n",
              "</style>\n",
              "<table border=\"1\" class=\"dataframe\">\n",
              "  <thead>\n",
              "    <tr style=\"text-align: right;\">\n",
              "      <th></th>\n",
              "      <th>DailyAvgAirTemp</th>\n",
              "      <th>DailyCoolingDegreeDays</th>\n",
              "      <th>DailyHeatingDegreeDays</th>\n",
              "      <th>year</th>\n",
              "      <th>month</th>\n",
              "      <th>date</th>\n",
              "      <th>timestamp</th>\n",
              "      <th>season</th>\n",
              "    </tr>\n",
              "  </thead>\n",
              "  <tbody>\n",
              "    <tr>\n",
              "      <th>2005-01-01</th>\n",
              "      <td>48.0</td>\n",
              "      <td>0.0</td>\n",
              "      <td>17.0</td>\n",
              "      <td>2005</td>\n",
              "      <td>1</td>\n",
              "      <td>1</td>\n",
              "      <td>00:00:00</td>\n",
              "      <td>winter</td>\n",
              "    </tr>\n",
              "    <tr>\n",
              "      <th>2005-01-02</th>\n",
              "      <td>52.0</td>\n",
              "      <td>0.0</td>\n",
              "      <td>13.0</td>\n",
              "      <td>2005</td>\n",
              "      <td>1</td>\n",
              "      <td>2</td>\n",
              "      <td>00:00:00</td>\n",
              "      <td>winter</td>\n",
              "    </tr>\n",
              "    <tr>\n",
              "      <th>2005-01-03</th>\n",
              "      <td>50.0</td>\n",
              "      <td>0.0</td>\n",
              "      <td>15.0</td>\n",
              "      <td>2005</td>\n",
              "      <td>1</td>\n",
              "      <td>3</td>\n",
              "      <td>00:00:00</td>\n",
              "      <td>winter</td>\n",
              "    </tr>\n",
              "    <tr>\n",
              "      <th>2005-01-04</th>\n",
              "      <td>40.0</td>\n",
              "      <td>0.0</td>\n",
              "      <td>25.0</td>\n",
              "      <td>2005</td>\n",
              "      <td>1</td>\n",
              "      <td>4</td>\n",
              "      <td>00:00:00</td>\n",
              "      <td>winter</td>\n",
              "    </tr>\n",
              "    <tr>\n",
              "      <th>2005-01-05</th>\n",
              "      <td>36.0</td>\n",
              "      <td>0.0</td>\n",
              "      <td>29.0</td>\n",
              "      <td>2005</td>\n",
              "      <td>1</td>\n",
              "      <td>5</td>\n",
              "      <td>00:00:00</td>\n",
              "      <td>winter</td>\n",
              "    </tr>\n",
              "  </tbody>\n",
              "</table>\n",
              "</div>"
            ],
            "text/plain": [
              "            DailyAvgAirTemp  DailyCoolingDegreeDays  ...  timestamp  season\n",
              "2005-01-01             48.0                     0.0  ...   00:00:00  winter\n",
              "2005-01-02             52.0                     0.0  ...   00:00:00  winter\n",
              "2005-01-03             50.0                     0.0  ...   00:00:00  winter\n",
              "2005-01-04             40.0                     0.0  ...   00:00:00  winter\n",
              "2005-01-05             36.0                     0.0  ...   00:00:00  winter\n",
              "\n",
              "[5 rows x 8 columns]"
            ]
          },
          "metadata": {
            "tags": []
          },
          "execution_count": 35
        }
      ]
    },
    {
      "cell_type": "markdown",
      "metadata": {
        "id": "DpV4WUvkorcp",
        "colab_type": "text"
      },
      "source": [
        "# Energy data"
      ]
    },
    {
      "cell_type": "code",
      "metadata": {
        "id": "z97Btx5boqiX",
        "colab_type": "code",
        "colab": {
          "base_uri": "https://localhost:8080/",
          "height": 136
        },
        "outputId": "d3cbf853-39f1-4905-d2b9-8b6428e757c8"
      },
      "source": [
        "# Import energy data\n",
        "df_energy = pd.read_csv('https://github.com/cjakuc/DS-Unit1-Build-Week/blob/master/Energy%20Data/pjm_dayton_clean.csv?raw=true',\n",
        "                        parse_dates=True,\n",
        "                        index_col=0)\n",
        "df_energy = add_time(df_energy)\n",
        "print(df_energy.shape, df_energy.head())\n",
        "# The shape is wrong"
      ],
      "execution_count": 36,
      "outputs": [
        {
          "output_type": "stream",
          "text": [
            "(96341, 6)                          MW  year  month  date timestamp  season\n",
            "Datetime                                                        \n",
            "2005-01-01 00:00:00  1560.0  2005      1     1  00:00:00  winter\n",
            "2005-12-31 01:00:00  1706.0  2005     12   365  01:00:00  winter\n",
            "2005-12-31 02:00:00  1630.0  2005     12   365  02:00:00  winter\n",
            "2005-12-31 03:00:00  1586.0  2005     12   365  03:00:00  winter\n",
            "2005-12-31 04:00:00  1569.0  2005     12   365  04:00:00  winter\n"
          ],
          "name": "stdout"
        }
      ]
    },
    {
      "cell_type": "code",
      "metadata": {
        "id": "-IXfTygIqLq2",
        "colab_type": "code",
        "colab": {
          "base_uri": "https://localhost:8080/",
          "height": 279
        },
        "outputId": "62dbbbff-9a83-4afe-bb53-c71d7c59db7b"
      },
      "source": [
        "# Check out the distribution of the dates\n",
        "sns.distplot(df_energy['date'],kde=False);\n",
        "# Missing some...might be a problem when using lagged variables"
      ],
      "execution_count": 37,
      "outputs": [
        {
          "output_type": "display_data",
          "data": {
            "image/png": "[encoded data removed]",
            "text/plain": [
              "<Figure size 432x288 with 1 Axes>"
            ]
          },
          "metadata": {
            "tags": []
          }
        }
      ]
    },
    {
      "cell_type": "markdown",
      "metadata": {
        "id": "rars4DiZr5E4",
        "colab_type": "text"
      },
      "source": [
        "# Combine all the datasets"
      ]
    },
    {
      "cell_type": "code",
      "metadata": {
        "id": "5TG72cTDr7w0",
        "colab_type": "code",
        "colab": {
          "base_uri": "https://localhost:8080/",
          "height": 34
        },
        "outputId": "855a3f44-c9ea-408d-9677-4365fcaa5994"
      },
      "source": [
        "df_full = pd.merge(df_weather,df_energy,\n",
        "                   on=['year','month','date','timestamp','season'],\n",
        "                   left_index=True,\n",
        "                   right_index=True)\n",
        "df_full.shape\n",
        "# Less observations than both"
      ],
      "execution_count": 38,
      "outputs": [
        {
          "output_type": "execute_result",
          "data": {
            "text/plain": [
              "(96318, 15)"
            ]
          },
          "metadata": {
            "tags": []
          },
          "execution_count": 38
        }
      ]
    },
    {
      "cell_type": "code",
      "metadata": {
        "id": "gm2CCZ3esUcQ",
        "colab_type": "code",
        "colab": {
          "base_uri": "https://localhost:8080/",
          "height": 394
        },
        "outputId": "decbc933-6127-41d6-855d-87b090b1a506"
      },
      "source": [
        "df_full.head()"
      ],
      "execution_count": 39,
      "outputs": [
        {
          "output_type": "execute_result",
          "data": {
            "text/html": [
              "<div>\n",
              "<style scoped>\n",
              "    .dataframe tbody tr th:only-of-type {\n",
              "        vertical-align: middle;\n",
              "    }\n",
              "\n",
              "    .dataframe tbody tr th {\n",
              "        vertical-align: top;\n",
              "    }\n",
              "\n",
              "    .dataframe thead th {\n",
              "        text-align: right;\n",
              "    }\n",
              "</style>\n",
              "<table border=\"1\" class=\"dataframe\">\n",
              "  <thead>\n",
              "    <tr style=\"text-align: right;\">\n",
              "      <th></th>\n",
              "      <th>HourlyDewPointTemperature</th>\n",
              "      <th>HourlyDryBulbTemperature</th>\n",
              "      <th>HourlyPrecipitation</th>\n",
              "      <th>HourlyRelativeHumidity</th>\n",
              "      <th>HourlySeaLevelPressure</th>\n",
              "      <th>HourlyStationPressure</th>\n",
              "      <th>HourlyVisibility</th>\n",
              "      <th>HourlyWindDirection</th>\n",
              "      <th>HourlyWindSpeed</th>\n",
              "      <th>year</th>\n",
              "      <th>month</th>\n",
              "      <th>date</th>\n",
              "      <th>timestamp</th>\n",
              "      <th>season</th>\n",
              "      <th>MW</th>\n",
              "    </tr>\n",
              "  </thead>\n",
              "  <tbody>\n",
              "    <tr>\n",
              "      <th>2005-01-01 00:00:00</th>\n",
              "      <td>50.000000</td>\n",
              "      <td>50.000000</td>\n",
              "      <td>0.0</td>\n",
              "      <td>100.0</td>\n",
              "      <td>30.300</td>\n",
              "      <td>29.215000</td>\n",
              "      <td>1.500</td>\n",
              "      <td>225.000000</td>\n",
              "      <td>11.500000</td>\n",
              "      <td>2005</td>\n",
              "      <td>1</td>\n",
              "      <td>1</td>\n",
              "      <td>00:00:00</td>\n",
              "      <td>winter</td>\n",
              "      <td>1560.0</td>\n",
              "    </tr>\n",
              "    <tr>\n",
              "      <th>2005-01-01 01:00:00</th>\n",
              "      <td>50.833333</td>\n",
              "      <td>50.833333</td>\n",
              "      <td>0.0</td>\n",
              "      <td>100.0</td>\n",
              "      <td>30.305</td>\n",
              "      <td>29.223333</td>\n",
              "      <td>1.415</td>\n",
              "      <td>226.666667</td>\n",
              "      <td>8.666667</td>\n",
              "      <td>2005</td>\n",
              "      <td>1</td>\n",
              "      <td>1</td>\n",
              "      <td>01:00:00</td>\n",
              "      <td>winter</td>\n",
              "      <td>1490.0</td>\n",
              "    </tr>\n",
              "    <tr>\n",
              "      <th>2005-01-01 02:00:00</th>\n",
              "      <td>50.000000</td>\n",
              "      <td>50.000000</td>\n",
              "      <td>0.0</td>\n",
              "      <td>100.0</td>\n",
              "      <td>30.320</td>\n",
              "      <td>29.240000</td>\n",
              "      <td>0.250</td>\n",
              "      <td>200.000000</td>\n",
              "      <td>6.000000</td>\n",
              "      <td>2005</td>\n",
              "      <td>1</td>\n",
              "      <td>1</td>\n",
              "      <td>02:00:00</td>\n",
              "      <td>winter</td>\n",
              "      <td>1429.0</td>\n",
              "    </tr>\n",
              "    <tr>\n",
              "      <th>2005-01-01 03:00:00</th>\n",
              "      <td>50.000000</td>\n",
              "      <td>50.000000</td>\n",
              "      <td>0.0</td>\n",
              "      <td>100.0</td>\n",
              "      <td>30.340</td>\n",
              "      <td>29.250000</td>\n",
              "      <td>0.250</td>\n",
              "      <td>200.000000</td>\n",
              "      <td>3.000000</td>\n",
              "      <td>2005</td>\n",
              "      <td>1</td>\n",
              "      <td>1</td>\n",
              "      <td>03:00:00</td>\n",
              "      <td>winter</td>\n",
              "      <td>1367.0</td>\n",
              "    </tr>\n",
              "    <tr>\n",
              "      <th>2005-01-01 04:00:00</th>\n",
              "      <td>50.000000</td>\n",
              "      <td>50.000000</td>\n",
              "      <td>0.0</td>\n",
              "      <td>100.0</td>\n",
              "      <td>30.340</td>\n",
              "      <td>29.255000</td>\n",
              "      <td>0.250</td>\n",
              "      <td>100.000000</td>\n",
              "      <td>1.500000</td>\n",
              "      <td>2005</td>\n",
              "      <td>1</td>\n",
              "      <td>1</td>\n",
              "      <td>04:00:00</td>\n",
              "      <td>winter</td>\n",
              "      <td>1325.0</td>\n",
              "    </tr>\n",
              "  </tbody>\n",
              "</table>\n",
              "</div>"
            ],
            "text/plain": [
              "                     HourlyDewPointTemperature  ...      MW\n",
              "2005-01-01 00:00:00                  50.000000  ...  1560.0\n",
              "2005-01-01 01:00:00                  50.833333  ...  1490.0\n",
              "2005-01-01 02:00:00                  50.000000  ...  1429.0\n",
              "2005-01-01 03:00:00                  50.000000  ...  1367.0\n",
              "2005-01-01 04:00:00                  50.000000  ...  1325.0\n",
              "\n",
              "[5 rows x 15 columns]"
            ]
          },
          "metadata": {
            "tags": []
          },
          "execution_count": 39
        }
      ]
    },
    {
      "cell_type": "code",
      "metadata": {
        "id": "m4uA-f8VsM0H",
        "colab_type": "code",
        "colab": {
          "base_uri": "https://localhost:8080/",
          "height": 279
        },
        "outputId": "18fa4360-ebd9-4516-dfe8-1928b0123252"
      },
      "source": [
        "# Check out the distribution of the dates\n",
        "sns.distplot(df_full['date'],kde=False);"
      ],
      "execution_count": 40,
      "outputs": [
        {
          "output_type": "display_data",
          "data": {
            "image/png": "[encoded data removed]",
            "text/plain": [
              "<Figure size 432x288 with 1 Axes>"
            ]
          },
          "metadata": {
            "tags": []
          }
        }
      ]
    },
    {
      "cell_type": "code",
      "metadata": {
        "id": "Dsb8hfg6tLej",
        "colab_type": "code",
        "colab": {
          "base_uri": "https://localhost:8080/",
          "height": 34
        },
        "outputId": "4a2ce752-dcf3-41dd-f1bc-d40578db5a46"
      },
      "source": [
        "# Merge in the daily temperature df\n",
        "df_temp = pd.merge(df_full,df_daily_temp,\n",
        "                   on=['year','month','date','timestamp','season'],\n",
        "                   left_index=True,\n",
        "                   right_index=True,\n",
        "                   how='left')\n",
        "df_temp.shape"
      ],
      "execution_count": 41,
      "outputs": [
        {
          "output_type": "execute_result",
          "data": {
            "text/plain": [
              "(96318, 18)"
            ]
          },
          "metadata": {
            "tags": []
          },
          "execution_count": 41
        }
      ]
    },
    {
      "cell_type": "code",
      "metadata": {
        "id": "046jupWMtpST",
        "colab_type": "code",
        "colab": {
          "base_uri": "https://localhost:8080/",
          "height": 394
        },
        "outputId": "ce4abdf1-7ee5-42e9-ae4a-4ca181859524"
      },
      "source": [
        "df_temp.head()\n",
        "# Need to make it so the daily metrics don't have any NaNs,\n",
        "# so the values show up for each hour in the day"
      ],
      "execution_count": 42,
      "outputs": [
        {
          "output_type": "execute_result",
          "data": {
            "text/html": [
              "<div>\n",
              "<style scoped>\n",
              "    .dataframe tbody tr th:only-of-type {\n",
              "        vertical-align: middle;\n",
              "    }\n",
              "\n",
              "    .dataframe tbody tr th {\n",
              "        vertical-align: top;\n",
              "    }\n",
              "\n",
              "    .dataframe thead th {\n",
              "        text-align: right;\n",
              "    }\n",
              "</style>\n",
              "<table border=\"1\" class=\"dataframe\">\n",
              "  <thead>\n",
              "    <tr style=\"text-align: right;\">\n",
              "      <th></th>\n",
              "      <th>HourlyDewPointTemperature</th>\n",
              "      <th>HourlyDryBulbTemperature</th>\n",
              "      <th>HourlyPrecipitation</th>\n",
              "      <th>HourlyRelativeHumidity</th>\n",
              "      <th>HourlySeaLevelPressure</th>\n",
              "      <th>HourlyStationPressure</th>\n",
              "      <th>HourlyVisibility</th>\n",
              "      <th>HourlyWindDirection</th>\n",
              "      <th>HourlyWindSpeed</th>\n",
              "      <th>year</th>\n",
              "      <th>month</th>\n",
              "      <th>date</th>\n",
              "      <th>timestamp</th>\n",
              "      <th>season</th>\n",
              "      <th>MW</th>\n",
              "      <th>DailyAvgAirTemp</th>\n",
              "      <th>DailyCoolingDegreeDays</th>\n",
              "      <th>DailyHeatingDegreeDays</th>\n",
              "    </tr>\n",
              "  </thead>\n",
              "  <tbody>\n",
              "    <tr>\n",
              "      <th>2005-01-01 00:00:00</th>\n",
              "      <td>50.000000</td>\n",
              "      <td>50.000000</td>\n",
              "      <td>0.0</td>\n",
              "      <td>100.0</td>\n",
              "      <td>30.300</td>\n",
              "      <td>29.215000</td>\n",
              "      <td>1.500</td>\n",
              "      <td>225.000000</td>\n",
              "      <td>11.500000</td>\n",
              "      <td>2005</td>\n",
              "      <td>1</td>\n",
              "      <td>1</td>\n",
              "      <td>00:00:00</td>\n",
              "      <td>winter</td>\n",
              "      <td>1560.0</td>\n",
              "      <td>48.0</td>\n",
              "      <td>0.0</td>\n",
              "      <td>17.0</td>\n",
              "    </tr>\n",
              "    <tr>\n",
              "      <th>2005-01-01 01:00:00</th>\n",
              "      <td>50.833333</td>\n",
              "      <td>50.833333</td>\n",
              "      <td>0.0</td>\n",
              "      <td>100.0</td>\n",
              "      <td>30.305</td>\n",
              "      <td>29.223333</td>\n",
              "      <td>1.415</td>\n",
              "      <td>226.666667</td>\n",
              "      <td>8.666667</td>\n",
              "      <td>2005</td>\n",
              "      <td>1</td>\n",
              "      <td>1</td>\n",
              "      <td>01:00:00</td>\n",
              "      <td>winter</td>\n",
              "      <td>1490.0</td>\n",
              "      <td>NaN</td>\n",
              "      <td>NaN</td>\n",
              "      <td>NaN</td>\n",
              "    </tr>\n",
              "    <tr>\n",
              "      <th>2005-01-01 02:00:00</th>\n",
              "      <td>50.000000</td>\n",
              "      <td>50.000000</td>\n",
              "      <td>0.0</td>\n",
              "      <td>100.0</td>\n",
              "      <td>30.320</td>\n",
              "      <td>29.240000</td>\n",
              "      <td>0.250</td>\n",
              "      <td>200.000000</td>\n",
              "      <td>6.000000</td>\n",
              "      <td>2005</td>\n",
              "      <td>1</td>\n",
              "      <td>1</td>\n",
              "      <td>02:00:00</td>\n",
              "      <td>winter</td>\n",
              "      <td>1429.0</td>\n",
              "      <td>NaN</td>\n",
              "      <td>NaN</td>\n",
              "      <td>NaN</td>\n",
              "    </tr>\n",
              "    <tr>\n",
              "      <th>2005-01-01 03:00:00</th>\n",
              "      <td>50.000000</td>\n",
              "      <td>50.000000</td>\n",
              "      <td>0.0</td>\n",
              "      <td>100.0</td>\n",
              "      <td>30.340</td>\n",
              "      <td>29.250000</td>\n",
              "      <td>0.250</td>\n",
              "      <td>200.000000</td>\n",
              "      <td>3.000000</td>\n",
              "      <td>2005</td>\n",
              "      <td>1</td>\n",
              "      <td>1</td>\n",
              "      <td>03:00:00</td>\n",
              "      <td>winter</td>\n",
              "      <td>1367.0</td>\n",
              "      <td>NaN</td>\n",
              "      <td>NaN</td>\n",
              "      <td>NaN</td>\n",
              "    </tr>\n",
              "    <tr>\n",
              "      <th>2005-01-01 04:00:00</th>\n",
              "      <td>50.000000</td>\n",
              "      <td>50.000000</td>\n",
              "      <td>0.0</td>\n",
              "      <td>100.0</td>\n",
              "      <td>30.340</td>\n",
              "      <td>29.255000</td>\n",
              "      <td>0.250</td>\n",
              "      <td>100.000000</td>\n",
              "      <td>1.500000</td>\n",
              "      <td>2005</td>\n",
              "      <td>1</td>\n",
              "      <td>1</td>\n",
              "      <td>04:00:00</td>\n",
              "      <td>winter</td>\n",
              "      <td>1325.0</td>\n",
              "      <td>NaN</td>\n",
              "      <td>NaN</td>\n",
              "      <td>NaN</td>\n",
              "    </tr>\n",
              "  </tbody>\n",
              "</table>\n",
              "</div>"
            ],
            "text/plain": [
              "                     HourlyDewPointTemperature  ...  DailyHeatingDegreeDays\n",
              "2005-01-01 00:00:00                  50.000000  ...                    17.0\n",
              "2005-01-01 01:00:00                  50.833333  ...                     NaN\n",
              "2005-01-01 02:00:00                  50.000000  ...                     NaN\n",
              "2005-01-01 03:00:00                  50.000000  ...                     NaN\n",
              "2005-01-01 04:00:00                  50.000000  ...                     NaN\n",
              "\n",
              "[5 rows x 18 columns]"
            ]
          },
          "metadata": {
            "tags": []
          },
          "execution_count": 42
        }
      ]
    },
    {
      "cell_type": "markdown",
      "metadata": {
        "id": "LSuA5-l8uKDo",
        "colab_type": "text"
      },
      "source": [
        "# Choose your target. Which column in your tabular dataset will you predict?"
      ]
    },
    {
      "cell_type": "code",
      "metadata": {
        "id": "ou9G5q_XuKxq",
        "colab_type": "code",
        "colab": {
          "base_uri": "https://localhost:8080/",
          "height": 279
        },
        "outputId": "d72a1a57-01f2-4c90-e51d-4e70f3163326"
      },
      "source": [
        "target = 'MW'\n",
        "sns.distplot(df_full[target]);\n",
        "# Slightly right skewed?"
      ],
      "execution_count": 43,
      "outputs": [
        {
          "output_type": "display_data",
          "data": {
            "image/png": "[encoded data removed]",
            "text/plain": [
              "<Figure size 432x288 with 1 Axes>"
            ]
          },
          "metadata": {
            "tags": []
          }
        }
      ]
    },
    {
      "cell_type": "markdown",
      "metadata": {
        "id": "Vbs7Vv5MuNkH",
        "colab_type": "text"
      },
      "source": [
        "# Is your problem regression or classification?\n",
        "\n",
        "Regression"
      ]
    },
    {
      "cell_type": "markdown",
      "metadata": {
        "id": "z9acLlseuatH",
        "colab_type": "text"
      },
      "source": [
        "# Choose your evaluation metric(s).\n",
        "    - Regression: Will you use mean absolute error, root mean squared error, R^2, or other regression metrics?\n",
        "\n",
        "MAE"
      ]
    },
    {
      "cell_type": "markdown",
      "metadata": {
        "id": "cN24utqTup4W",
        "colab_type": "text"
      },
      "source": [
        "# Choose which observations you will use to train, validate, and test your model.\n",
        "    - Are some observations outliers? Will you exclude them?\n",
        "    - Will you do a random split or a time-based split?"
      ]
    },
    {
      "cell_type": "code",
      "metadata": {
        "id": "xI4i8kEPu2qE",
        "colab_type": "code",
        "colab": {
          "base_uri": "https://localhost:8080/",
          "height": 279
        },
        "outputId": "1eb3050d-aee8-4d9d-f552-1fec0b48017e"
      },
      "source": [
        "sns.distplot(df_full['year'],kde=False);\n",
        "# Looks like all the years are distributed equally so I will choose\n",
        "# based on year"
      ],
      "execution_count": 44,
      "outputs": [
        {
          "output_type": "display_data",
          "data": {
            "image/png": "[encoded data removed]",
            "text/plain": [
              "<Figure size 432x288 with 1 Axes>"
            ]
          },
          "metadata": {
            "tags": []
          }
        }
      ]
    },
    {
      "cell_type": "code",
      "metadata": {
        "id": "cfiJV4e2vVVY",
        "colab_type": "code",
        "colab": {
          "base_uri": "https://localhost:8080/",
          "height": 221
        },
        "outputId": "d7fbd46b-0336-45ea-b30f-666ebc23f87a"
      },
      "source": [
        "df_full['year'].sort_values(ascending=False)\n",
        "# The last year is 2015\n",
        "# 2015 will be the test\n",
        "# 2014 will be the validation"
      ],
      "execution_count": 45,
      "outputs": [
        {
          "output_type": "execute_result",
          "data": {
            "text/plain": [
              "2015-12-31 00:00:00    2015\n",
              "2015-05-02 06:00:00    2015\n",
              "2015-05-02 12:00:00    2015\n",
              "2015-05-02 11:00:00    2015\n",
              "2015-05-02 10:00:00    2015\n",
              "                       ... \n",
              "2005-09-01 13:00:00    2005\n",
              "2005-09-01 14:00:00    2005\n",
              "2005-09-01 15:00:00    2005\n",
              "2005-09-01 16:00:00    2005\n",
              "2005-01-01 00:00:00    2005\n",
              "Name: year, Length: 96318, dtype: int64"
            ]
          },
          "metadata": {
            "tags": []
          },
          "execution_count": 45
        }
      ]
    },
    {
      "cell_type": "code",
      "metadata": {
        "id": "O41zAON9vpUi",
        "colab_type": "code",
        "colab": {}
      },
      "source": [
        "# Create train, val, and test sets\n",
        "train = df_full[df_full['year']<2014]\n",
        "val = df_full[df_full['year']==2014]\n",
        "test = df_full[df_full['year']==2015]"
      ],
      "execution_count": 0,
      "outputs": []
    },
    {
      "cell_type": "code",
      "metadata": {
        "id": "SaPIlPLpwTku",
        "colab_type": "code",
        "colab": {
          "base_uri": "https://localhost:8080/",
          "height": 408
        },
        "outputId": "dfce312d-5dba-4ffc-e29d-13ce42646899"
      },
      "source": [
        "print(train.shape,val.shape,test.shape)\n",
        "print(train.head(),val.head(),test.head())"
      ],
      "execution_count": 47,
      "outputs": [
        {
          "output_type": "stream",
          "text": [
            "(78821, 15) (8760, 15) (8737, 15)\n",
            "                     HourlyDewPointTemperature  ...      MW\n",
            "2005-01-01 00:00:00                  50.000000  ...  1560.0\n",
            "2005-01-01 01:00:00                  50.833333  ...  1490.0\n",
            "2005-01-01 02:00:00                  50.000000  ...  1429.0\n",
            "2005-01-01 03:00:00                  50.000000  ...  1367.0\n",
            "2005-01-01 04:00:00                  50.000000  ...  1325.0\n",
            "\n",
            "[5 rows x 15 columns]                      HourlyDewPointTemperature  ...      MW\n",
            "2014-01-01 00:00:00                       19.0  ...  1879.0\n",
            "2014-01-01 01:00:00                       19.0  ...  1819.0\n",
            "2014-01-01 02:00:00                       19.0  ...  1797.0\n",
            "2014-01-01 03:00:00                       18.0  ...  1765.0\n",
            "2014-01-01 04:00:00                       18.5  ...  1754.0\n",
            "\n",
            "[5 rows x 15 columns]                      HourlyDewPointTemperature  ...      MW\n",
            "2015-01-01 00:00:00                        7.0  ...  2001.0\n",
            "2015-01-01 01:00:00                        7.5  ...  1950.0\n",
            "2015-01-01 02:00:00                        8.0  ...  1912.0\n",
            "2015-01-01 03:00:00                        9.0  ...  1866.0\n",
            "2015-01-01 04:00:00                        9.0  ...  1859.0\n",
            "\n",
            "[5 rows x 15 columns]\n"
          ],
          "name": "stdout"
        }
      ]
    },
    {
      "cell_type": "code",
      "metadata": {
        "id": "qVXS8b-fywJU",
        "colab_type": "code",
        "colab": {}
      },
      "source": [
        ""
      ],
      "execution_count": 0,
      "outputs": []
    }
  ]
}